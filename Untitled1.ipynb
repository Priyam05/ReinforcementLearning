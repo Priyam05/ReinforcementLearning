{
 "cells": [
  {
   "cell_type": "code",
   "execution_count": 1,
   "metadata": {},
   "outputs": [
    {
     "name": "stdout",
     "output_type": "stream",
     "text": [
      "Collecting ipdb\n",
      "  Downloading https://files.pythonhosted.org/packages/df/78/3d0d7253dc85549db182cbe4b43b30c506c84008fcd39898122c9b6306a9/ipdb-0.12.2.tar.gz\n",
      "Requirement already satisfied: setuptools in c:\\users\\admin\\anaconda3\\lib\\site-packages (from ipdb) (41.0.1)\n",
      "Requirement already satisfied: ipython>=5.1.0 in c:\\users\\admin\\anaconda3\\lib\\site-packages (from ipdb) (7.4.0)\n",
      "Requirement already satisfied: jedi>=0.10 in c:\\users\\admin\\anaconda3\\lib\\site-packages (from ipython>=5.1.0->ipdb) (0.13.3)\n",
      "Requirement already satisfied: traitlets>=4.2 in c:\\users\\admin\\anaconda3\\lib\\site-packages (from ipython>=5.1.0->ipdb) (4.3.2)\n",
      "Requirement already satisfied: colorama; sys_platform == \"win32\" in c:\\users\\admin\\anaconda3\\lib\\site-packages (from ipython>=5.1.0->ipdb) (0.4.1)\n",
      "Requirement already satisfied: pickleshare in c:\\users\\admin\\anaconda3\\lib\\site-packages (from ipython>=5.1.0->ipdb) (0.7.5)\n",
      "Requirement already satisfied: backcall in c:\\users\\admin\\anaconda3\\lib\\site-packages (from ipython>=5.1.0->ipdb) (0.1.0)\n",
      "Requirement already satisfied: pygments in c:\\users\\admin\\anaconda3\\lib\\site-packages (from ipython>=5.1.0->ipdb) (2.3.1)\n",
      "Requirement already satisfied: decorator in c:\\users\\admin\\anaconda3\\lib\\site-packages (from ipython>=5.1.0->ipdb) (4.4.0)\n",
      "Requirement already satisfied: prompt-toolkit<2.1.0,>=2.0.0 in c:\\users\\admin\\anaconda3\\lib\\site-packages (from ipython>=5.1.0->ipdb) (2.0.9)\n",
      "Requirement already satisfied: parso>=0.3.0 in c:\\users\\admin\\anaconda3\\lib\\site-packages (from jedi>=0.10->ipython>=5.1.0->ipdb) (0.3.4)\n",
      "Requirement already satisfied: six in c:\\users\\admin\\anaconda3\\lib\\site-packages (from traitlets>=4.2->ipython>=5.1.0->ipdb) (1.12.0)\n",
      "Requirement already satisfied: ipython-genutils in c:\\users\\admin\\anaconda3\\lib\\site-packages (from traitlets>=4.2->ipython>=5.1.0->ipdb) (0.2.0)\n",
      "Requirement already satisfied: wcwidth in c:\\users\\admin\\anaconda3\\lib\\site-packages (from prompt-toolkit<2.1.0,>=2.0.0->ipython>=5.1.0->ipdb) (0.1.7)\n",
      "Building wheels for collected packages: ipdb\n",
      "  Building wheel for ipdb (setup.py): started\n",
      "  Building wheel for ipdb (setup.py): finished with status 'done'\n",
      "  Stored in directory: C:\\Users\\admin\\AppData\\Local\\pip\\Cache\\wheels\\7a\\00\\07\\c906eaf1b90367fbb81bd840e56bf8859dbd3efe3838c0b4ba\n",
      "Successfully built ipdb\n",
      "Installing collected packages: ipdb\n",
      "Successfully installed ipdb-0.12.2\n"
     ]
    }
   ],
   "source": [
    "!pip install ipdb"
   ]
  },
  {
   "cell_type": "code",
   "execution_count": null,
   "metadata": {},
   "outputs": [],
   "source": []
  }
 ],
 "metadata": {
  "kernelspec": {
   "display_name": "Python 3",
   "language": "python",
   "name": "python3"
  },
  "language_info": {
   "codemirror_mode": {
    "name": "ipython",
    "version": 3
   },
   "file_extension": ".py",
   "mimetype": "text/x-python",
   "name": "python",
   "nbconvert_exporter": "python",
   "pygments_lexer": "ipython3",
   "version": "3.7.3"
  }
 },
 "nbformat": 4,
 "nbformat_minor": 2
}
